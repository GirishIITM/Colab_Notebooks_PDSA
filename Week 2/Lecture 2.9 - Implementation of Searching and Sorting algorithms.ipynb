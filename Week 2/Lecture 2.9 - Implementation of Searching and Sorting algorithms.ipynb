{
  "cells": [
    {
      "cell_type": "markdown",
      "metadata": {
        "id": "bvzwd5SvsZ9M"
      },
      "source": [
        "# Searching and Sorting"
      ]
    },
    {
      "cell_type": "markdown",
      "metadata": {
        "id": "HafrRO7osZ9N"
      },
      "source": [
        "### Setup\n",
        "- Set up `Timer` class to time executions"
      ]
    },
    {
      "cell_type": "code",
      "execution_count": 2,
      "metadata": {
        "id": "FX-LCujtXSyH"
      },
      "outputs": [],
      "source": [
        "import time\n",
        "\n",
        "class TimerError(Exception):\n",
        "    \"\"\"A custom exception used to report errors in use of Timer class\"\"\"\n",
        "\n",
        "class Timer:\n",
        "    def __init__(self):\n",
        "        self._start_time = None\n",
        "        self._elapsed_time = None\n",
        "\n",
        "    def start(self):\n",
        "        \"\"\"Start a new timer\"\"\"\n",
        "        if self._start_time is not None:\n",
        "            raise TimerError(\"Timer is running. Use .stop()\")\n",
        "        self._start_time = time.perf_counter()\n",
        "\n",
        "    def stop(self):\n",
        "        \"\"\"Save the elapsed time and re-initialize timer\"\"\"\n",
        "        if self._start_time is None:\n",
        "           raise TimerError(\"Timer is not running. Use .start()\")\n",
        "        self._elapsed_time = time.perf_counter() - self._start_time\n",
        "        self._start_time = None\n",
        "\n",
        "    def elapsed(self):\n",
        "        \"\"\"Report elapsed time\"\"\"\n",
        "        if self._elapsed_time is None:\n",
        "           raise TimerError(\"Timer has not been run yet. Use .start()\")\n",
        "        return(self._elapsed_time)\n",
        "\n",
        "    def __str__(self):\n",
        "        \"\"\"print() prints elapsed time\"\"\"\n",
        "        return(str(self._elapsed_time))"
      ]
    },
    {
      "cell_type": "markdown",
      "metadata": {
        "id": "HREqZFVosZ9R"
      },
      "source": [
        "### Naive search by scanning the list"
      ]
    },
    {
      "cell_type": "code",
      "execution_count": 11,
      "metadata": {
        "id": "Nh0Rt2ztm4nL"
      },
      "outputs": [],
      "source": [
        "def naivesearch(v,l):\n",
        "  for x in l:\n",
        "    if v == x:\n",
        "      return(True)\n",
        "  return(False)"
      ]
    },
    {
      "cell_type": "markdown",
      "metadata": {
        "id": "_I_Kwq5RsZ9S"
      },
      "source": [
        "### Binary search"
      ]
    },
    {
      "cell_type": "code",
      "execution_count": 12,
      "metadata": {
        "id": "9tDWAhyUnA7K"
      },
      "outputs": [],
      "source": [
        "def binarysearch(v, l):\n",
        "    if l == []:\n",
        "        return (False)\n",
        "\n",
        "    m = len(l)//2\n",
        "\n",
        "    if v == l[m]:\n",
        "        return (True)\n",
        "\n",
        "    if v < l[m]:\n",
        "        return (binarysearch(v, l[:m]))\n",
        "    else:\n",
        "        return (binarysearch(v, l[m+1:]))"
      ]
    },
    {
      "cell_type": "code",
      "execution_count": 13,
      "metadata": {},
      "outputs": [],
      "source": [
        "def binarysearchIterative(v,lst):\n",
        "    n = len(lst)\n",
        "    if n == 0:\n",
        "        return(False)\n",
        "    l, r = 0, n-1\n",
        "    while l<=r:\n",
        "        m = (l+r)//2\n",
        "        if v == lst[m]:\n",
        "            return(True)\n",
        "        if v < lst[m]:\n",
        "            r = m-1\n",
        "        else:\n",
        "            l = m+1\n",
        "    return(False)"
      ]
    },
    {
      "cell_type": "markdown",
      "metadata": {
        "id": "4Psd7PytsZ9U"
      },
      "source": [
        "### Checking correctness and speed of each searching algo implementation on input `[0,2,...,n]`"
      ]
    },
    {
      "cell_type": "code",
      "execution_count": 14,
      "metadata": {
        "colab": {
          "base_uri": "https://localhost:8080/"
        },
        "id": "Z20emTJ9sZ9V",
        "outputId": "d702a162-da7f-4b95-ccac-4e695d0fd668"
      },
      "outputs": [
        {
          "name": "stdout",
          "output_type": "stream",
          "text": [
            "Naive search took 0.27799959100002525 seconds\n",
            "Binary search took 0.06847107999965374 seconds\n",
            "Binary search iterative took 0.006881840999994893 seconds\n",
            "Ranking of algorithms:\n",
            "1. Binary search iterative with 0.006881840999994893 seconds\n",
            "2. Binary search with 0.06847107999965374 seconds\n",
            "3. Naive search with 0.27799959100002525 seconds\n"
          ]
        }
      ],
      "source": [
        "n = 10000\n",
        "l = list(range(0, n, 2))\n",
        "\n",
        "timer = Timer()\n",
        "timeTakenByNaiveSearch = 0\n",
        "timeTakenByBinarySearch = 0\n",
        "timeTakenByBinarySearchIterative = 0\n",
        "\n",
        "timer.start()\n",
        "for i in range(n):\n",
        "    result = naivesearch(i, l)\n",
        "    # print(result)\n",
        "timer.stop()\n",
        "timeTakenByNaiveSearch = timer.elapsed()\n",
        "\n",
        "timer.start()\n",
        "for i in range(n):\n",
        "    result = binarysearch(i, l)\n",
        "    # print(result)\n",
        "timer.stop()\n",
        "timeTakenByBinarySearch = timer.elapsed()\n",
        "\n",
        "timer.start()\n",
        "for i in range(n):\n",
        "    result = binarysearchIterative(i, l)\n",
        "    # print(result)\n",
        "timer.stop()\n",
        "timeTakenByBinarySearchIterative = timer.elapsed()\n",
        "\n",
        "print(\"Naive search took\", timeTakenByNaiveSearch, \"seconds\")\n",
        "print(\"Binary search took\", timeTakenByBinarySearch, \"seconds\")\n",
        "print(\"Binary search iterative took\", timeTakenByBinarySearchIterative, \"seconds\")\n",
        "\n",
        "ranking = {\n",
        "    \"Naive search\": timeTakenByNaiveSearch,\n",
        "    \"Binary search\": timeTakenByBinarySearch,\n",
        "    \"Binary search iterative\": timeTakenByBinarySearchIterative\n",
        "}\n",
        "\n",
        "sorted_ranking = sorted(ranking.items(), key=lambda item: item[1])\n",
        "\n",
        "print(\"Ranking of algorithms:\")\n",
        "for i, (algo, time) in enumerate(sorted_ranking, 1):\n",
        "    print(f\"{i}. {algo} with {time} seconds\")\n"
      ]
    },
    {
      "cell_type": "markdown",
      "metadata": {
        "id": "FcsOBFTGsZ9V"
      },
      "source": [
        "### Performance comparison across $10^4$ worst case searches in a list of size $10^5$\n",
        "- Looking for odd numbers in a list of even numbers"
      ]
    },
    {
      "cell_type": "code",
      "execution_count": 15,
      "metadata": {
        "colab": {
          "base_uri": "https://localhost:8080/"
        },
        "id": "BlsFK6JdoC6L",
        "outputId": "ccd0132d-dc4a-41b3-c29a-4750e6673146"
      },
      "outputs": [
        {
          "ename": "AttributeError",
          "evalue": "'float' object has no attribute 'perf_counter'",
          "output_type": "error",
          "traceback": [
            "\u001b[0;31m---------------------------------------------------------------------------\u001b[0m",
            "\u001b[0;31mAttributeError\u001b[0m                            Traceback (most recent call last)",
            "Cell \u001b[0;32mIn[15], line 3\u001b[0m\n\u001b[1;32m      1\u001b[0m l \u001b[38;5;241m=\u001b[39m \u001b[38;5;28mlist\u001b[39m(\u001b[38;5;28mrange\u001b[39m(\u001b[38;5;241m0\u001b[39m,\u001b[38;5;241m100000\u001b[39m,\u001b[38;5;241m2\u001b[39m))\n\u001b[1;32m      2\u001b[0m t \u001b[38;5;241m=\u001b[39m Timer()\n\u001b[0;32m----> 3\u001b[0m \u001b[43mt\u001b[49m\u001b[38;5;241;43m.\u001b[39;49m\u001b[43mstart\u001b[49m\u001b[43m(\u001b[49m\u001b[43m)\u001b[49m\n\u001b[1;32m      4\u001b[0m \u001b[38;5;28;01mfor\u001b[39;00m i \u001b[38;5;129;01min\u001b[39;00m \u001b[38;5;28mrange\u001b[39m(\u001b[38;5;241m3001\u001b[39m,\u001b[38;5;241m13000\u001b[39m,\u001b[38;5;241m2\u001b[39m):\n\u001b[1;32m      5\u001b[0m   v \u001b[38;5;241m=\u001b[39m naivesearch(i,l)\n",
            "Cell \u001b[0;32mIn[10], line 15\u001b[0m, in \u001b[0;36mTimer.start\u001b[0;34m(self)\u001b[0m\n\u001b[1;32m     13\u001b[0m \u001b[38;5;28;01mif\u001b[39;00m \u001b[38;5;28mself\u001b[39m\u001b[38;5;241m.\u001b[39m_start_time \u001b[38;5;129;01mis\u001b[39;00m \u001b[38;5;129;01mnot\u001b[39;00m \u001b[38;5;28;01mNone\u001b[39;00m:\n\u001b[1;32m     14\u001b[0m     \u001b[38;5;28;01mraise\u001b[39;00m TimerError(\u001b[38;5;124m\"\u001b[39m\u001b[38;5;124mTimer is running. Use .stop()\u001b[39m\u001b[38;5;124m\"\u001b[39m)\n\u001b[0;32m---> 15\u001b[0m \u001b[38;5;28mself\u001b[39m\u001b[38;5;241m.\u001b[39m_start_time \u001b[38;5;241m=\u001b[39m \u001b[43mtime\u001b[49m\u001b[38;5;241;43m.\u001b[39;49m\u001b[43mperf_counter\u001b[49m()\n",
            "\u001b[0;31mAttributeError\u001b[0m: 'float' object has no attribute 'perf_counter'"
          ]
        }
      ],
      "source": [
        "l = list(range(0,100000,2))\n",
        "t = Timer()\n",
        "t.start()\n",
        "for i in range(3001,13000,2):\n",
        "  v = naivesearch(i,l)\n",
        "t.stop()\n",
        "print()\n",
        "print(\"Naive search\", t)\n",
        "t.start()\n",
        "for i in range(3001,13000,2):\n",
        "  v = binarysearch(i,l)\n",
        "t.stop()\n",
        "print()\n",
        "print(\"Binary search\", t)"
      ]
    },
    {
      "cell_type": "markdown",
      "metadata": {
        "id": "IrkFYqxMsZ9W"
      },
      "source": [
        "### Selection sort"
      ]
    },
    {
      "cell_type": "code",
      "execution_count": null,
      "metadata": {
        "id": "Xv8jrh12ouDC"
      },
      "outputs": [],
      "source": [
        "def SelectionSort(L):\n",
        "    n = len(L)\n",
        "    if n < 1:\n",
        "        return (L)\n",
        "    numOfSwaps = 0\n",
        "    numOfIts = 0\n",
        "    for i in range(n):\n",
        "        # Assume L[:i] is sorted\n",
        "        mpos = i\n",
        "        # mpos is position of minimum in L[i:]\n",
        "        for j in range(i+1, n):\n",
        "            numOfIts += 1\n",
        "            if L[j] < L[mpos]:\n",
        "                mpos = j\n",
        "        # L[mpos] is the smallest value in L[i:]\n",
        "        (L[i], L[mpos]) = (L[mpos], L[i])\n",
        "        numOfSwaps += 1\n",
        "        # Now L[:i+1] is sorted\n",
        "    print(\"Number of swaps:\", numOfSwaps)\n",
        "    print(\"Number of iterations:\", numOfIts)\n",
        "    return (L)"
      ]
    },
    {
      "cell_type": "code",
      "execution_count": null,
      "metadata": {},
      "outputs": [
        {
          "name": "stdout",
          "output_type": "stream",
          "text": [
            "Number of swaps: 5\n",
            "Number of iterations: 10\n",
            "[-2, 1, 2, 3, 5]\n"
          ]
        }
      ],
      "source": [
        "print(SelectionSort([2,1,3,5,-2]))"
      ]
    },
    {
      "cell_type": "markdown",
      "metadata": {
        "id": "FAUrIDbtsZ9X"
      },
      "source": [
        "### Selection sort performance is more or less the same for all inputs"
      ]
    },
    {
      "cell_type": "code",
      "execution_count": 16,
      "metadata": {
        "colab": {
          "base_uri": "https://localhost:8080/"
        },
        "id": "FlOt-RwxoUvX",
        "outputId": "c87e7478-4bd7-4e0a-ef90-58f28ba4d328"
      },
      "outputs": [
        {
          "ename": "AttributeError",
          "evalue": "'float' object has no attribute 'perf_counter'",
          "output_type": "error",
          "traceback": [
            "\u001b[0;31m---------------------------------------------------------------------------\u001b[0m",
            "\u001b[0;31mAttributeError\u001b[0m                            Traceback (most recent call last)",
            "Cell \u001b[0;32mIn[16], line 10\u001b[0m\n\u001b[1;32m      8\u001b[0m \u001b[38;5;28;01mfor\u001b[39;00m k \u001b[38;5;129;01min\u001b[39;00m inputlists\u001b[38;5;241m.\u001b[39mkeys():\n\u001b[1;32m      9\u001b[0m     tmplist \u001b[38;5;241m=\u001b[39m inputlists[k][:]\n\u001b[0;32m---> 10\u001b[0m     \u001b[43mt\u001b[49m\u001b[38;5;241;43m.\u001b[39;49m\u001b[43mstart\u001b[49m\u001b[43m(\u001b[49m\u001b[43m)\u001b[49m\n\u001b[1;32m     11\u001b[0m     SelectionSort(tmplist)\n\u001b[1;32m     12\u001b[0m     t\u001b[38;5;241m.\u001b[39mstop()\n",
            "Cell \u001b[0;32mIn[10], line 15\u001b[0m, in \u001b[0;36mTimer.start\u001b[0;34m(self)\u001b[0m\n\u001b[1;32m     13\u001b[0m \u001b[38;5;28;01mif\u001b[39;00m \u001b[38;5;28mself\u001b[39m\u001b[38;5;241m.\u001b[39m_start_time \u001b[38;5;129;01mis\u001b[39;00m \u001b[38;5;129;01mnot\u001b[39;00m \u001b[38;5;28;01mNone\u001b[39;00m:\n\u001b[1;32m     14\u001b[0m     \u001b[38;5;28;01mraise\u001b[39;00m TimerError(\u001b[38;5;124m\"\u001b[39m\u001b[38;5;124mTimer is running. Use .stop()\u001b[39m\u001b[38;5;124m\"\u001b[39m)\n\u001b[0;32m---> 15\u001b[0m \u001b[38;5;28mself\u001b[39m\u001b[38;5;241m.\u001b[39m_start_time \u001b[38;5;241m=\u001b[39m \u001b[43mtime\u001b[49m\u001b[38;5;241;43m.\u001b[39;49m\u001b[43mperf_counter\u001b[49m()\n",
            "\u001b[0;31mAttributeError\u001b[0m: 'float' object has no attribute 'perf_counter'"
          ]
        }
      ],
      "source": [
        "import random\n",
        "random.seed(2021)\n",
        "inputlists = {}\n",
        "inputlists[\"random\"] = [random.randrange(100000) for i in range(5000)]\n",
        "inputlists[\"ascending\"] = [i for i in range(5000)]\n",
        "inputlists[\"descending\"] = [i for i in range (4999,-1,-1)]\n",
        "t = Timer()\n",
        "for k in inputlists.keys():\n",
        "    tmplist = inputlists[k][:]\n",
        "    t.start()\n",
        "    SelectionSort(tmplist)\n",
        "    t.stop()\n",
        "    print(k,t)"
      ]
    },
    {
      "cell_type": "markdown",
      "metadata": {
        "id": "LZYEt3CMsZ9Y"
      },
      "source": [
        "### Insertion sort, iterative"
      ]
    },
    {
      "cell_type": "code",
      "execution_count": 5,
      "metadata": {
        "id": "7IU966hV-9Pn"
      },
      "outputs": [],
      "source": [
        "def InsertionSort(lst):\n",
        "    n = len(lst)\n",
        "    if n < 1:\n",
        "        return []\n",
        "    for i in range(n):\n",
        "        j = i\n",
        "        while (j > 0 and lst[j] < lst[j-1]):\n",
        "            (lst[j], lst[j-1]) = (lst[j-1], lst[j])\n",
        "            j = j-1\n",
        "    return lst"
      ]
    },
    {
      "cell_type": "code",
      "execution_count": 6,
      "metadata": {},
      "outputs": [
        {
          "name": "stdout",
          "output_type": "stream",
          "text": [
            "[-2, 1, 2, 3, 5]\n"
          ]
        }
      ],
      "source": [
        "print(InsertionSort([2,1,3,5,-2]))"
      ]
    },
    {
      "cell_type": "markdown",
      "metadata": {
        "id": "BYq-qcbTsZ9Y"
      },
      "source": [
        "### Insertion sort preformance\n",
        "- On already sorted input, performance is very good\n",
        "- On reverse sorted input, performance is worse than selection sort"
      ]
    },
    {
      "cell_type": "code",
      "execution_count": 10,
      "metadata": {
        "colab": {
          "base_uri": "https://localhost:8080/"
        },
        "id": "P59KcaKM_CjK",
        "outputId": "91909526-3365-41c8-e074-9d036fff3365"
      },
      "outputs": [
        {
          "name": "stdout",
          "output_type": "stream",
          "text": [
            "random 0.39658468600009655\n",
            "ascending 0.0001575739997861092\n",
            "descending 0.7657245799996417\n"
          ]
        }
      ],
      "source": [
        "import random\n",
        "random.seed(2021)\n",
        "inputlists = {}\n",
        "inputlists[\"random\"] = [random.randrange(100000) for i in range(5000)]\n",
        "inputlists[\"ascending\"] = [i for i in range(5000)]\n",
        "inputlists[\"descending\"] = [i for i in range (4999,-1,-1)]\n",
        "t = Timer()\n",
        "for k in inputlists.keys():\n",
        "    tmplist = inputlists[k][:]\n",
        "    t.start()\n",
        "    InsertionSort(tmplist)\n",
        "    t.stop()\n",
        "    print(k,t)"
      ]
    },
    {
      "cell_type": "markdown",
      "metadata": {
        "id": "YgUP1eBLsZ9Z"
      },
      "source": [
        "### Insertion sort, recursive"
      ]
    },
    {
      "cell_type": "code",
      "execution_count": 11,
      "metadata": {
        "id": "cknMO2qA_ZFX"
      },
      "outputs": [],
      "source": [
        "def Insert(L,v):\n",
        "   n = len(L)\n",
        "   if n == 0:\n",
        "     return([v])\n",
        "   if v >= L[-1]:\n",
        "     return(L+[v])\n",
        "   else:\n",
        "     return(Insert(L[:-1],v)+L[-1:])\n",
        "\n",
        "def ISort(L):\n",
        "   n = len(L)\n",
        "   if n < 1:\n",
        "      return(L)\n",
        "   L = Insert(ISort(L[:-1]),L[-1])\n",
        "   return(L)"
      ]
    },
    {
      "cell_type": "code",
      "execution_count": 13,
      "metadata": {},
      "outputs": [
        {
          "name": "stdout",
          "output_type": "stream",
          "text": [
            "[-2, 1, 2, 3, 5]\n"
          ]
        }
      ],
      "source": [
        "print(ISort([2,1,3,5,-2]))"
      ]
    },
    {
      "cell_type": "code",
      "execution_count": 15,
      "metadata": {
        "colab": {
          "base_uri": "https://localhost:8080/",
          "height": 387
        },
        "id": "2lCSbgVB3drw",
        "outputId": "846e3574-72c4-47f1-e352-95be163906ea"
      },
      "outputs": [
        {
          "name": "stdout",
          "output_type": "stream",
          "text": [
            "random 0.04478405999998358\n",
            "ascending 0.00030538900045939954\n",
            "descending 0.054045509999923524\n"
          ]
        }
      ],
      "source": [
        "import random\n",
        "random.seed(2021)\n",
        "inputlists = {}\n",
        "inputlists[\"random\"] = [random.randrange(100000) for i in range(500)]\n",
        "inputlists[\"ascending\"] = [i for i in range(500)]\n",
        "inputlists[\"descending\"] = [i for i in range (499,-1,-1)]\n",
        "t = Timer()\n",
        "for k in inputlists.keys():\n",
        "    tmplist = inputlists[k][:]\n",
        "    t.start()\n",
        "    ISort(tmplist)\n",
        "    t.stop()\n",
        "    print(k,t)"
      ]
    },
    {
      "cell_type": "markdown",
      "metadata": {
        "id": "UaZ2ymUs3Ioq"
      },
      "source": [
        "### Setup\n",
        "- Set recursion limit to maxint,  $2^{31}-1$\n",
        "    - This is the highest value Python allows\n"
      ]
    },
    {
      "cell_type": "code",
      "execution_count": null,
      "metadata": {
        "id": "W7aahHWJ3Col"
      },
      "outputs": [],
      "source": [
        "import sys\n",
        "sys.setrecursionlimit(2**31-1)"
      ]
    },
    {
      "cell_type": "markdown",
      "metadata": {
        "id": "mOV6kW0ZsZ9a"
      },
      "source": [
        "### Recursive insertion sort is slower than iterative\n",
        "- Input of 2000 (40%) takes more time than 5000 for iterative\n",
        "  - Overhead of recursive calls\n",
        "- Performance pattern between unsorted, sorted and random is similar "
      ]
    },
    {
      "cell_type": "code",
      "execution_count": 16,
      "metadata": {
        "colab": {
          "base_uri": "https://localhost:8080/"
        },
        "id": "jtSsgZhV_ke1",
        "outputId": "596a70fa-4278-4471-dba9-378691aba72e"
      },
      "outputs": [
        {
          "name": "stdout",
          "output_type": "stream",
          "text": [
            "random 3.077373836999868\n",
            "ascending 0.007705611000346835\n",
            "descending 4.7203530259994295\n"
          ]
        }
      ],
      "source": [
        "import random\n",
        "random.seed(2021)\n",
        "\n",
        "inputlists = {}\n",
        "inputlists[\"random\"] = [random.randrange(100000) for i in range(2000)]\n",
        "inputlists[\"ascending\"] = [i for i in range(2000)]\n",
        "inputlists[\"descending\"] = [i for i in range (1999,-1,-1)]\n",
        "t = Timer()\n",
        "for k in inputlists.keys():\n",
        "    tmplist = inputlists[k][:]\n",
        "    t.start()\n",
        "    ISort(tmplist)\n",
        "    t.stop()\n",
        "    print(k,t)"
      ]
    },
    {
      "cell_type": "markdown",
      "metadata": {
        "id": "ugj-kRXpsZ9b"
      },
      "source": [
        "### Merge sort"
      ]
    },
    {
      "cell_type": "code",
      "execution_count": 2,
      "metadata": {
        "id": "vjSICLy_s0-K"
      },
      "outputs": [],
      "source": [
        "def merge(A, B):\n",
        "    m, n = len(A), len(B)\n",
        "    c, i, j = [], 0, 0\n",
        "    while(i<=m or j<=n):\n",
        "        if i == m:\n",
        "          c.extend(B[j:])\n",
        "          break\n",
        "        elif j ==n:\n",
        "          c.extend(A[i:])\n",
        "          break\n",
        "        elif A[i]<B[j]:\n",
        "          c.append(A[i])\n",
        "          i+=1\n",
        "        else: \n",
        "          c.append(B[j])\n",
        "          j+=1\n",
        "    return c"
      ]
    },
    {
      "cell_type": "code",
      "execution_count": 3,
      "metadata": {},
      "outputs": [
        {
          "data": {
            "text/plain": [
              "[1, 2, 2, 3, 4, 5, 6, 8, 10]"
            ]
          },
          "execution_count": 3,
          "metadata": {},
          "output_type": "execute_result"
        }
      ],
      "source": [
        "merge([1,2,3,5],[2,4,6,8,10])"
      ]
    },
    {
      "cell_type": "code",
      "execution_count": null,
      "metadata": {
        "id": "YAAEaiRxs6Yu"
      },
      "outputs": [],
      "source": [
        "def mergesort(lst):\n",
        "    n = len(lst)\n",
        "    if n <= 1:\n",
        "        return\n",
        "    lft = lst[: n // 2]\n",
        "    rgt = lst[n // 2 :]\n",
        "\n",
        "    mergesort(lft)\n",
        "    mergesort(rgt)\n",
        "\n",
        "    mergedArr = merge(lft, rgt)"
      ]
    },
    {
      "cell_type": "markdown",
      "metadata": {
        "id": "9gzgSw_DsZ9b"
      },
      "source": [
        "### A simple input to check correctness"
      ]
    },
    {
      "cell_type": "code",
      "execution_count": null,
      "metadata": {
        "colab": {
          "base_uri": "https://localhost:8080/"
        },
        "id": "4UPyJKpTtOmN",
        "outputId": "f2917286-7f3f-4495-b19f-2a9b1e56d9d2"
      },
      "outputs": [],
      "source": [
        "mergesort([i for i in range(0,1000,2)]+[j for j in range (1,1000,2)])"
      ]
    },
    {
      "cell_type": "markdown",
      "metadata": {
        "id": "O8dFFhg3sZ9c"
      },
      "source": [
        "### Perfomance on large inputs, $10^6$, random and sorted"
      ]
    },
    {
      "cell_type": "code",
      "execution_count": null,
      "metadata": {
        "colab": {
          "base_uri": "https://localhost:8080/"
        },
        "id": "WI6uw7A2sZ9c",
        "outputId": "065256eb-1f14-491e-f6f5-b7ba576ebded"
      },
      "outputs": [],
      "source": [
        "import random\n",
        "random.seed(2021)\n",
        "inputlists = {}\n",
        "inputlists[\"random\"] = [random.randrange(100000000) for i in range(1000000)]\n",
        "inputlists[\"ascending\"] = [i for i in range(1000000)]\n",
        "inputlists[\"descending\"] = [i for i in range (999999,-1,-1)]\n",
        "t = Timer()\n",
        "for k in inputlists.keys():\n",
        "    tmplist = inputlists[k][:]\n",
        "    t.start()\n",
        "    mergesort(tmplist)\n",
        "    t.stop()\n",
        "    print(k,t)"
      ]
    }
  ],
  "metadata": {
    "colab": {
      "collapsed_sections": [],
      "name": "Week2-Sorting.ipynb",
      "provenance": []
    },
    "kernelspec": {
      "display_name": ".venv",
      "language": "python",
      "name": "python3"
    },
    "language_info": {
      "codemirror_mode": {
        "name": "ipython",
        "version": 3
      },
      "file_extension": ".py",
      "mimetype": "text/x-python",
      "name": "python",
      "nbconvert_exporter": "python",
      "pygments_lexer": "ipython3",
      "version": "3.13.2"
    }
  },
  "nbformat": 4,
  "nbformat_minor": 0
}
