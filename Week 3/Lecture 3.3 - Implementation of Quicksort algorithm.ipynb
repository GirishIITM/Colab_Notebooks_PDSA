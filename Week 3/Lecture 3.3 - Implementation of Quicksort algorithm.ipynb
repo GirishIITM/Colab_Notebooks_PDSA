{
  "cells": [
    {
      "cell_type": "code",
      "execution_count": 1,
      "metadata": {
        "id": "_FltLBohQRNw"
      },
      "outputs": [],
      "source": [
        "import time\n",
        "\n",
        "class TimerError(Exception):\n",
        "    \"\"\"A custom exception used to report errors in use of Timer class\"\"\"\n",
        "\n",
        "class Timer:\n",
        "    def __init__(self):\n",
        "        self._start_time = None\n",
        "        self._elapsed_time = None\n",
        "\n",
        "    def start(self):\n",
        "        \"\"\"Start a new timer\"\"\"\n",
        "        if self._start_time is not None:\n",
        "            raise TimerError(\"Timer is running. Use .stop()\")\n",
        "        self._start_time = time.perf_counter()\n",
        "\n",
        "    def stop(self):\n",
        "        \"\"\"Save the elapsed time and re-initialize timer\"\"\"\n",
        "        if self._start_time is None:\n",
        "           raise TimerError(\"Timer is not running. Use .start()\")\n",
        "        self._elapsed_time = time.perf_counter() - self._start_time\n",
        "        self._start_time = None\n",
        "\n",
        "    def elapsed(self):\n",
        "        \"\"\"Report elapsed time\"\"\"\n",
        "        if self._elapsed_time is None:\n",
        "           raise TimerError(\"Timer has not been run yet. Use .start()\")\n",
        "        return(self._elapsed_time)\n",
        "\n",
        "    def __str__(self):\n",
        "        \"\"\"print() prints elapsed time\"\"\"\n",
        "        return(str(self._elapsed_time))"
      ]
    },
    {
      "cell_type": "code",
      "execution_count": 2,
      "metadata": {
        "id": "VFhai_kpQZBh"
      },
      "outputs": [],
      "source": [
        "import sys\n",
        "sys.setrecursionlimit(2**31-1)"
      ]
    },
    {
      "cell_type": "code",
      "execution_count": 3,
      "metadata": {
        "id": "QIAd3klw1DrI"
      },
      "outputs": [],
      "source": [
        "def quicksort(L,l,r):  # Sort L[l:r]\n",
        "  if (r - l <= 1):\n",
        "    return\n",
        "  (pivot,lower,upper) = (L[l],l+1,l+1)\n",
        "  for i in range(l+1,r):\n",
        "    if L[i] > pivot:  # Extend upper segment\n",
        "      upper = upper+1\n",
        "    else:  # Exchange L[i] with start of upper segment\n",
        "      (L[i], L[lower]) = (L[lower], L[i])\n",
        "      # Shift both segments\n",
        "      (lower,upper) = (lower+1,upper+1)\n",
        "  # Move pivot between lower and upper\n",
        "  (L[l],L[lower-1]) = (L[lower-1],L[l])\n",
        "  lower = lower-1\n",
        "  # Recursive calls\n",
        "  quicksort(L,l,lower)\n",
        "  quicksort(L,lower+1,upper)\n",
        "  return(L)"
      ]
    },
    {
      "cell_type": "code",
      "execution_count": 4,
      "metadata": {
        "colab": {
          "base_uri": "https://localhost:8080/"
        },
        "id": "HjpxDnQB1jaB",
        "outputId": "4b368aad-2021-45f8-f7db-fef6d41fc107"
      },
      "outputs": [
        {
          "name": "stdout",
          "output_type": "stream",
          "text": [
            "[-5, 0, 1, 2, 2, 3, 3, 4, 4, 5, 6, 17] [-5, 0, 1, 2, 2, 3, 3, 4, 4, 5, 6, 17]\n"
          ]
        }
      ],
      "source": [
        "qlist = [1,3,5,0,2,4,17,2,-5,6,4,3]\n",
        "qnew = quicksort(qlist,0,12)\n",
        "print(qnew,qlist)"
      ]
    },
    {
      "cell_type": "code",
      "execution_count": 5,
      "metadata": {
        "colab": {
          "base_uri": "https://localhost:8080/"
        },
        "id": "5MBCFqitQNP5",
        "outputId": "e3e620eb-2bae-429a-b65c-688ff22e0487"
      },
      "outputs": [
        {
          "name": "stdout",
          "output_type": "stream",
          "text": [
            "random 1.1858779450003567\n",
            "ascending 1.1555495820002761\n",
            "descending 1.7473205650003365\n"
          ]
        }
      ],
      "source": [
        "import random\n",
        "random.seed(2021)\n",
        "inputlists = {}\n",
        "inputlists[\"random\"] = [random.randrange(100000000) for i in range(1000000)]\n",
        "inputlists[\"ascending\"] = [i for i in range(10000)]\n",
        "inputlists[\"descending\"] = [i for i in range (9999,-1,-1)]\n",
        "t = Timer()\n",
        "for k in inputlists.keys():\n",
        "    tmplist = inputlists[k][:]\n",
        "    t.start()\n",
        "    quicksort(tmplist,0,len(tmplist))\n",
        "    t.stop()\n",
        "    print(k,t)"
      ]
    },
    {
      "cell_type": "code",
      "execution_count": 6,
      "metadata": {
        "id": "rmKeiW3OOL-B"
      },
      "outputs": [],
      "source": [
        "def merge(A,B):\n",
        "  (m,n) = (len(A),len(B))\n",
        "  (C,i,j,k) = ([],0,0,0)\n",
        "  while k < m+n:\n",
        "    if i == m:\n",
        "      C.extend(B[j:])\n",
        "      k = k + (n-j)\n",
        "    elif j == n:\n",
        "      C.extend(A[i:])\n",
        "      k = k + (n-i)\n",
        "    elif A[i] < B[j]:\n",
        "      C.append(A[i])\n",
        "      (i,k) = (i+1,k+1)\n",
        "    else:\n",
        "      C.append(B[j])\n",
        "      (j,k) = (j+1,k+1)\n",
        "  return(C)"
      ]
    },
    {
      "cell_type": "code",
      "execution_count": 7,
      "metadata": {
        "id": "xtmEnJyfOTMS"
      },
      "outputs": [],
      "source": [
        "def mergesort(A):\n",
        "  n = len(A)\n",
        "\n",
        "  if n <= 1:\n",
        "     return(A)\n",
        "  \n",
        "  L = mergesort(A[:n//2])\n",
        "  R = mergesort(A[n//2:])\n",
        "\n",
        "  B = merge(L,R)\n",
        "\n",
        "  return(B)"
      ]
    },
    {
      "cell_type": "code",
      "execution_count": 8,
      "metadata": {
        "colab": {
          "base_uri": "https://localhost:8080/"
        },
        "id": "qZZflGZ-OPdB",
        "outputId": "2295a0bf-5728-4c14-bde7-3ecfac5ac117"
      },
      "outputs": [
        {
          "name": "stdout",
          "output_type": "stream",
          "text": [
            "random 1.5853562679994866\n",
            "ascending 0.848483177000162\n",
            "descending 0.8552269729998443\n"
          ]
        }
      ],
      "source": [
        "import random\n",
        "random.seed(2021)\n",
        "inputlists = {}\n",
        "inputlists[\"random\"] = [random.randrange(100000000) for i in range(1000000)]\n",
        "inputlists[\"ascending\"] = [i for i in range(1000000)]\n",
        "inputlists[\"descending\"] = [i for i in range (999999,-1,-1)]\n",
        "t = Timer()\n",
        "for k in inputlists.keys():\n",
        "    tmplist = inputlists[k][:]\n",
        "    t.start()\n",
        "    mergesort(tmplist)\n",
        "    t.stop()\n",
        "    print(k,t)"
      ]
    }
  ],
  "metadata": {
    "colab": {
      "name": "Quicksort.ipynb",
      "provenance": []
    },
    "kernelspec": {
      "display_name": ".venv",
      "language": "python",
      "name": "python3"
    },
    "language_info": {
      "codemirror_mode": {
        "name": "ipython",
        "version": 3
      },
      "file_extension": ".py",
      "mimetype": "text/x-python",
      "name": "python",
      "nbconvert_exporter": "python",
      "pygments_lexer": "ipython3",
      "version": "3.13.2"
    }
  },
  "nbformat": 4,
  "nbformat_minor": 0
}
